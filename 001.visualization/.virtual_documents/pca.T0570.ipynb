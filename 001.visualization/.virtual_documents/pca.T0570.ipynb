import pandas, numpy


import sklearn, sklearn.preprocessing, sklearn.decomposition


import matplotlib, matplotlib.pyplot
matplotlib.rcParams.update({'font.size':20, 
                            'font.family':'sans-serif', 
                            'xtick.labelsize':16, 
                            'ytick.labelsize':16, 
                            'figure.figsize':(16*(2/3), 9*(2/3)), 
                            'axes.labelsize':20
                           })





input_file = '/Users/adrian/research/akthelia/results/000_quantification/DESeq2_TPM_values.tsv'





expression = pandas.read_csv(input_file, sep='\t', index_col=0)
print(expression.shape)
expression


columns2drop = []
for element in expression.columns:
    if 'T0570' not in element:
        columns2drop.append(element)
expression.drop(columns2drop, axis='columns', inplace=True)
print(expression.shape)
expression.head()





substantial_expression = expression[expression.max(axis=1) >= 2]
high_expression = expression[expression.max(axis=1) >= 100]

print(substantial_expression.shape)
print(high_expression.shape)


transpose = substantial_expression.transpose()
pca_substantial_expression = numpy.log2(transpose + 1)

transpose = high_expression.transpose()
pca_high_expression = numpy.log2(transpose + 1)





scaled_data = sklearn.preprocessing.StandardScaler().fit_transform(pca_substantial_expression)
model = sklearn.decomposition.PCA(n_components=2)
new = model.fit_transform(scaled_data)
explained = model.explained_variance_ratio_
print(explained)


for i in range(len(new)):

    # colors
    if '011' in expression.columns[i]:
        the_color = 'gold'
    else:
        the_color = 'skyblue'

    # markers
    if 'T6' in expression.columns[i]:
        the_marker = 'o'
    else:
        the_marker = 's'
    
    matplotlib.pyplot.scatter(new[i,0], new[i,1], s=666, c=the_color, marker=the_marker, alpha=2/3, edgecolors='none')
    epsilon = 0
    matplotlib.pyplot.text(new[i,0], new[i,1], expression.columns[i], size=12)

#matplotlib.pyplot.legend(legend_elements, ['h1', 'h2 low', 'h2 high', 'KO', 'WT'], ncol=2, loc='upper left', bbox_to_anchor=(1.05, 1))
    
matplotlib.pyplot.xlabel('PC1 (exp. var.: {}%)'.format(int(explained[0]*100)))
matplotlib.pyplot.ylabel('PC2 (exp. var.: {}%)'.format(int(explained[1]*100)))
matplotlib.pyplot.grid(alpha=0.5, ls=':')

matplotlib.pyplot.show()
#matplotlib.pyplot.savefig('pca.svg')





scaled_data = sklearn.preprocessing.StandardScaler().fit_transform(pca_high_expression)
model = sklearn.decomposition.PCA(n_components=2)
new = model.fit_transform(scaled_data)
explained = model.explained_variance_ratio_
print(explained)


for i in range(len(new)):
    
    # colors
    if '011' in expression.columns[i]:
        the_color = 'gold'
    else:
        the_color = 'skyblue'

    # markers
    if 'T6' in expression.columns[i]:
        the_marker = 'o'
    else:
        the_marker = 's'
        
    matplotlib.pyplot.scatter(new[i,0], new[i,1], s=666, c=the_color, marker=the_marker, alpha=2/3, edgecolors='none')
    matplotlib.pyplot.text(new[i,0], new[i,1], expression.columns[i], size=12)
    
matplotlib.pyplot.xlabel('PC1 (exp. var.: {}%)'.format(int(explained[0]*100)))
matplotlib.pyplot.ylabel('PC2 (exp. var.: {}%)'.format(int(explained[1]*100)))
matplotlib.pyplot.grid(alpha=0.5, ls=':')
matplotlib.pyplot.show()
